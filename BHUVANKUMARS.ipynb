{
  "nbformat": 4,
  "nbformat_minor": 0,
  "metadata": {
    "colab": {
      "name": "BHUVANKUMARS.ipynb",
      "provenance": []
    },
    "kernelspec": {
      "name": "python3",
      "display_name": "Python 3"
    },
    "language_info": {
      "name": "python"
    }
  },
  "cells": [
    {
      "cell_type": "markdown",
      "metadata": {
        "id": "XuCIINSeqLZu"
      },
      "source": [
        "S.BHUVAN KUMAR"
      ]
    },
    {
      "cell_type": "code",
      "metadata": {
        "colab": {
          "base_uri": "https://localhost:8080/"
        },
        "id": "d_7wq0oYqKeG",
        "outputId": "7c7ad4f8-64ca-4ebb-e87e-c4b49e20a423"
      },
      "source": [
        "import random\n",
        "import datetime\n",
        "print(\"\\n\\nWelcome! To Ticket Booking System\\n\")\n",
        "x=[]\n",
        "y=[]\n",
        "a=input(\"Enter source city:\\n\")\n",
        "x.append(a)\n",
        "b=input(\"Enter destination city:\\n\")\n",
        "x.append(b)\n",
        "dd=int(input(\"Enter date: \"))\n",
        "x.append(dd)\n",
        "mm=int(input(\"Enter month: \"))\n",
        "x.append(mm)\n",
        "yy=int(input(\"Enter year: \"))\n",
        "x.append(yy) \n",
        "print(\"Available seats are : \")\n",
        "print(random.randint(1,50),random.randint(1,50),random.randint(1,50\n",
        "),random.randint(1,50),random.randint(1,50))\n",
        "people = int(input(\"\\nEnter no. of Ticket you want : \"))\n",
        "\n",
        "for p in range(people):\n",
        " c=eval(input(\"Enter the Seat Number:\"))\n",
        " x.append(c)\n",
        " name=input(\"Enter your Name\\n\")\n",
        " age=input(\"Enter Age\\n\")\n",
        " gender=input(\"Enter Gender\\n\")\n",
        " mobile_number=int(input(\"Enter mobile number\\n\"))\n",
        " mail_id=input(\"Enter Mail ID\\n\")\n",
        " print(\"\")\n",
        " y.append(name)\n",
        " y.append(age)\n",
        " y.append(gender)\n",
        " y.append(mobile_number)\n",
        " y.append(mail_id)\n",
        "\n",
        "\n",
        "print(\"\\nTotal Ticket : \",people)\n",
        "\n",
        "print(\"\")\n",
        "print(\"Select Payment method\")\n",
        "print(\"Netbanking=1:\")\n",
        "print(\"Debit/Credit/ATM Cards=2:\")\n",
        "print(\"Using UPI Apps=3:\")\n",
        "e =input(\"\")\n",
        "if e==\"1\":\n",
        " f=input(input(\"Enter user Id & Password\\n\"))\n",
        "elif e==\"2\":\n",
        " g=input(\"Enter Card details\\n\")\n",
        "elif e==\"3\":\n",
        " h=input(\"Enter your UPI ID\\n\")\n",
        "else:\n",
        "  print(\"Invalid Option\\n\")\n",
        "  exit()\n",
        "\n",
        "k = datetime.datetime.now()\n",
        "print(\"Booking Conformed On\",k)\n",
        "print(\"BUS DETAILS ARE:\")\n",
        "print(\"Sourse :\",a,\"\\nDestination :\",b,\"\\nDate : \",dd,\"/\",mm,\"/\",yy)\n",
        "print(\"\\nTotal Ticket : \",people)\n",
        "print(\"Customer Details:\")\n",
        "print(y)\n",
        "k = datetime.datetime.now()\n",
        "print(\"Booking Conformed On\",k) \n"
      ],
      "execution_count": null,
      "outputs": [
        {
          "output_type": "stream",
          "text": [
            "\n",
            "\n",
            "Welcome! To Ticket Booking System\n",
            "\n",
            "Enter source city:\n",
            "bangalore\n",
            "Enter destination city:\n",
            "goa\n",
            "Enter date: 22\n",
            "Enter month: 2\n",
            "Enter year: 2222\n",
            "Available seats are : \n",
            "11 1 31 1 21\n",
            "\n",
            "Enter no. of Ticket you want : 1\n",
            "Enter the Seat Number:11\n",
            "Enter your Name\n",
            "bhuvan \n",
            "Enter Age\n",
            "21\n",
            "Enter Gender\n",
            "m\n",
            "Enter mobile number\n",
            "999999999\n",
            "Enter Mail ID\n",
            "bhuvannnnn@GMAIL\n",
            "\n",
            "\n",
            "Total Ticket :  1\n",
            "\n",
            "Select Payment method\n",
            "Netbanking=1:\n",
            "Debit/Credit/ATM Cards=2:\n",
            "Using UPI Apps=3:\n",
            "Debit\n",
            "Invalid Option\n",
            "\n",
            "Booking Conformed On 2021-08-08 12:16:30.153279\n",
            "BUS DETAILS ARE:\n",
            "Sourse : bangalore \n",
            "Destination : goa \n",
            "Date :  22 / 2 / 2222\n",
            "\n",
            "Total Ticket :  1\n",
            "Customer Details:\n",
            "['bhuvan ', '21', 'm', 999999999, 'bhuvannnnn@GMAIL']\n",
            "Booking Conformed On 2021-08-08 12:16:30.153869\n"
          ],
          "name": "stdout"
        }
      ]
    }
  ]
}